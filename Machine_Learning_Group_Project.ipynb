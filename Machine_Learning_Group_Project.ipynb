{
  "nbformat": 4,
  "nbformat_minor": 0,
  "metadata": {
    "colab": {
      "provenance": [],
      "authorship_tag": "ABX9TyONrL35bcNaDlE+lvKUplUe",
      "include_colab_link": true
    },
    "kernelspec": {
      "name": "python3",
      "display_name": "Python 3"
    },
    "language_info": {
      "name": "python"
    }
  },
  "cells": [
    {
      "cell_type": "markdown",
      "metadata": {
        "id": "view-in-github",
        "colab_type": "text"
      },
      "source": [
        "<a href=\"https://colab.research.google.com/github/Sunil-ai-007/weather_prediction_neaural_network/blob/main/Machine_Learning_Group_Project.ipynb\" target=\"_parent\"><img src=\"https://colab.research.google.com/assets/colab-badge.svg\" alt=\"Open In Colab\"/></a>"
      ]
    },
    {
      "cell_type": "code",
      "execution_count": null,
      "metadata": {
        "id": "VA6LmV8V4Af3"
      },
      "outputs": [],
      "source": [
        "import pandas as pd\n",
        "import numpy as np"
      ]
    },
    {
      "cell_type": "code",
      "source": [
        "weather_aus = pd.read_excel(\"Weather AUS.xlsx\")"
      ],
      "metadata": {
        "id": "sPrfG55Q4N_Z"
      },
      "execution_count": null,
      "outputs": []
    },
    {
      "cell_type": "code",
      "source": [
        "weather_aus.head()"
      ],
      "metadata": {
        "id": "Eqj3D8MG4gMB",
        "colab": {
          "base_uri": "https://localhost:8080/",
          "height": 299
        },
        "outputId": "92adbd00-48cc-4311-ebba-da71f1462e1e"
      },
      "execution_count": null,
      "outputs": [
        {
          "output_type": "execute_result",
          "data": {
            "text/plain": [
              "   MinTemp  MaxTemp  Rainfall  Evaporation  Sunshine  WindGustDir  \\\n",
              "0     13.4     22.9       0.6         5.46      7.61           15   \n",
              "1      7.4     25.1       0.0         5.46      7.61           16   \n",
              "2     12.9     25.7       0.0         5.46      7.61           18   \n",
              "3      9.2     28.0       0.0         5.46      7.61            6   \n",
              "4     17.5     32.3       1.0         5.46      7.61           15   \n",
              "\n",
              "   WindGustSpeed  WindDir9am  WindDir3pm  WindSpeed9am  ...  Humidity9am  \\\n",
              "0             44          14          16            20  ...           71   \n",
              "1             44           7          17             4  ...           44   \n",
              "2             46          14          17            19  ...           38   \n",
              "3             24          10           1            11  ...           45   \n",
              "4             41           2           9             7  ...           82   \n",
              "\n",
              "   Humidity3pm  Pressure9am  Pressure3pm  Cloud9am  Cloud3pm  Temp9am  \\\n",
              "0           22       1007.7       1007.1         8         5     16.9   \n",
              "1           25       1010.6       1007.8         4         5     17.2   \n",
              "2           30       1007.6       1008.7         4         2     21.0   \n",
              "3           16       1017.6       1012.8         4         5     18.1   \n",
              "4           33       1010.8       1006.0         7         8     17.8   \n",
              "\n",
              "   Temp3pm  RainToday  RainTomorrow  \n",
              "0     21.8          0            No  \n",
              "1     24.3          0            No  \n",
              "2     23.2          0            No  \n",
              "3     26.5          0            No  \n",
              "4     29.7          0            No  \n",
              "\n",
              "[5 rows x 21 columns]"
            ],
            "text/html": [
              "\n",
              "  <div id=\"df-ee0a9cda-9364-4578-b362-c4fcd8bec078\">\n",
              "    <div class=\"colab-df-container\">\n",
              "      <div>\n",
              "<style scoped>\n",
              "    .dataframe tbody tr th:only-of-type {\n",
              "        vertical-align: middle;\n",
              "    }\n",
              "\n",
              "    .dataframe tbody tr th {\n",
              "        vertical-align: top;\n",
              "    }\n",
              "\n",
              "    .dataframe thead th {\n",
              "        text-align: right;\n",
              "    }\n",
              "</style>\n",
              "<table border=\"1\" class=\"dataframe\">\n",
              "  <thead>\n",
              "    <tr style=\"text-align: right;\">\n",
              "      <th></th>\n",
              "      <th>MinTemp</th>\n",
              "      <th>MaxTemp</th>\n",
              "      <th>Rainfall</th>\n",
              "      <th>Evaporation</th>\n",
              "      <th>Sunshine</th>\n",
              "      <th>WindGustDir</th>\n",
              "      <th>WindGustSpeed</th>\n",
              "      <th>WindDir9am</th>\n",
              "      <th>WindDir3pm</th>\n",
              "      <th>WindSpeed9am</th>\n",
              "      <th>...</th>\n",
              "      <th>Humidity9am</th>\n",
              "      <th>Humidity3pm</th>\n",
              "      <th>Pressure9am</th>\n",
              "      <th>Pressure3pm</th>\n",
              "      <th>Cloud9am</th>\n",
              "      <th>Cloud3pm</th>\n",
              "      <th>Temp9am</th>\n",
              "      <th>Temp3pm</th>\n",
              "      <th>RainToday</th>\n",
              "      <th>RainTomorrow</th>\n",
              "    </tr>\n",
              "  </thead>\n",
              "  <tbody>\n",
              "    <tr>\n",
              "      <th>0</th>\n",
              "      <td>13.4</td>\n",
              "      <td>22.9</td>\n",
              "      <td>0.6</td>\n",
              "      <td>5.46</td>\n",
              "      <td>7.61</td>\n",
              "      <td>15</td>\n",
              "      <td>44</td>\n",
              "      <td>14</td>\n",
              "      <td>16</td>\n",
              "      <td>20</td>\n",
              "      <td>...</td>\n",
              "      <td>71</td>\n",
              "      <td>22</td>\n",
              "      <td>1007.7</td>\n",
              "      <td>1007.1</td>\n",
              "      <td>8</td>\n",
              "      <td>5</td>\n",
              "      <td>16.9</td>\n",
              "      <td>21.8</td>\n",
              "      <td>0</td>\n",
              "      <td>No</td>\n",
              "    </tr>\n",
              "    <tr>\n",
              "      <th>1</th>\n",
              "      <td>7.4</td>\n",
              "      <td>25.1</td>\n",
              "      <td>0.0</td>\n",
              "      <td>5.46</td>\n",
              "      <td>7.61</td>\n",
              "      <td>16</td>\n",
              "      <td>44</td>\n",
              "      <td>7</td>\n",
              "      <td>17</td>\n",
              "      <td>4</td>\n",
              "      <td>...</td>\n",
              "      <td>44</td>\n",
              "      <td>25</td>\n",
              "      <td>1010.6</td>\n",
              "      <td>1007.8</td>\n",
              "      <td>4</td>\n",
              "      <td>5</td>\n",
              "      <td>17.2</td>\n",
              "      <td>24.3</td>\n",
              "      <td>0</td>\n",
              "      <td>No</td>\n",
              "    </tr>\n",
              "    <tr>\n",
              "      <th>2</th>\n",
              "      <td>12.9</td>\n",
              "      <td>25.7</td>\n",
              "      <td>0.0</td>\n",
              "      <td>5.46</td>\n",
              "      <td>7.61</td>\n",
              "      <td>18</td>\n",
              "      <td>46</td>\n",
              "      <td>14</td>\n",
              "      <td>17</td>\n",
              "      <td>19</td>\n",
              "      <td>...</td>\n",
              "      <td>38</td>\n",
              "      <td>30</td>\n",
              "      <td>1007.6</td>\n",
              "      <td>1008.7</td>\n",
              "      <td>4</td>\n",
              "      <td>2</td>\n",
              "      <td>21.0</td>\n",
              "      <td>23.2</td>\n",
              "      <td>0</td>\n",
              "      <td>No</td>\n",
              "    </tr>\n",
              "    <tr>\n",
              "      <th>3</th>\n",
              "      <td>9.2</td>\n",
              "      <td>28.0</td>\n",
              "      <td>0.0</td>\n",
              "      <td>5.46</td>\n",
              "      <td>7.61</td>\n",
              "      <td>6</td>\n",
              "      <td>24</td>\n",
              "      <td>10</td>\n",
              "      <td>1</td>\n",
              "      <td>11</td>\n",
              "      <td>...</td>\n",
              "      <td>45</td>\n",
              "      <td>16</td>\n",
              "      <td>1017.6</td>\n",
              "      <td>1012.8</td>\n",
              "      <td>4</td>\n",
              "      <td>5</td>\n",
              "      <td>18.1</td>\n",
              "      <td>26.5</td>\n",
              "      <td>0</td>\n",
              "      <td>No</td>\n",
              "    </tr>\n",
              "    <tr>\n",
              "      <th>4</th>\n",
              "      <td>17.5</td>\n",
              "      <td>32.3</td>\n",
              "      <td>1.0</td>\n",
              "      <td>5.46</td>\n",
              "      <td>7.61</td>\n",
              "      <td>15</td>\n",
              "      <td>41</td>\n",
              "      <td>2</td>\n",
              "      <td>9</td>\n",
              "      <td>7</td>\n",
              "      <td>...</td>\n",
              "      <td>82</td>\n",
              "      <td>33</td>\n",
              "      <td>1010.8</td>\n",
              "      <td>1006.0</td>\n",
              "      <td>7</td>\n",
              "      <td>8</td>\n",
              "      <td>17.8</td>\n",
              "      <td>29.7</td>\n",
              "      <td>0</td>\n",
              "      <td>No</td>\n",
              "    </tr>\n",
              "  </tbody>\n",
              "</table>\n",
              "<p>5 rows × 21 columns</p>\n",
              "</div>\n",
              "      <button class=\"colab-df-convert\" onclick=\"convertToInteractive('df-ee0a9cda-9364-4578-b362-c4fcd8bec078')\"\n",
              "              title=\"Convert this dataframe to an interactive table.\"\n",
              "              style=\"display:none;\">\n",
              "        \n",
              "  <svg xmlns=\"http://www.w3.org/2000/svg\" height=\"24px\"viewBox=\"0 0 24 24\"\n",
              "       width=\"24px\">\n",
              "    <path d=\"M0 0h24v24H0V0z\" fill=\"none\"/>\n",
              "    <path d=\"M18.56 5.44l.94 2.06.94-2.06 2.06-.94-2.06-.94-.94-2.06-.94 2.06-2.06.94zm-11 1L8.5 8.5l.94-2.06 2.06-.94-2.06-.94L8.5 2.5l-.94 2.06-2.06.94zm10 10l.94 2.06.94-2.06 2.06-.94-2.06-.94-.94-2.06-.94 2.06-2.06.94z\"/><path d=\"M17.41 7.96l-1.37-1.37c-.4-.4-.92-.59-1.43-.59-.52 0-1.04.2-1.43.59L10.3 9.45l-7.72 7.72c-.78.78-.78 2.05 0 2.83L4 21.41c.39.39.9.59 1.41.59.51 0 1.02-.2 1.41-.59l7.78-7.78 2.81-2.81c.8-.78.8-2.07 0-2.86zM5.41 20L4 18.59l7.72-7.72 1.47 1.35L5.41 20z\"/>\n",
              "  </svg>\n",
              "      </button>\n",
              "      \n",
              "  <style>\n",
              "    .colab-df-container {\n",
              "      display:flex;\n",
              "      flex-wrap:wrap;\n",
              "      gap: 12px;\n",
              "    }\n",
              "\n",
              "    .colab-df-convert {\n",
              "      background-color: #E8F0FE;\n",
              "      border: none;\n",
              "      border-radius: 50%;\n",
              "      cursor: pointer;\n",
              "      display: none;\n",
              "      fill: #1967D2;\n",
              "      height: 32px;\n",
              "      padding: 0 0 0 0;\n",
              "      width: 32px;\n",
              "    }\n",
              "\n",
              "    .colab-df-convert:hover {\n",
              "      background-color: #E2EBFA;\n",
              "      box-shadow: 0px 1px 2px rgba(60, 64, 67, 0.3), 0px 1px 3px 1px rgba(60, 64, 67, 0.15);\n",
              "      fill: #174EA6;\n",
              "    }\n",
              "\n",
              "    [theme=dark] .colab-df-convert {\n",
              "      background-color: #3B4455;\n",
              "      fill: #D2E3FC;\n",
              "    }\n",
              "\n",
              "    [theme=dark] .colab-df-convert:hover {\n",
              "      background-color: #434B5C;\n",
              "      box-shadow: 0px 1px 3px 1px rgba(0, 0, 0, 0.15);\n",
              "      filter: drop-shadow(0px 1px 2px rgba(0, 0, 0, 0.3));\n",
              "      fill: #FFFFFF;\n",
              "    }\n",
              "  </style>\n",
              "\n",
              "      <script>\n",
              "        const buttonEl =\n",
              "          document.querySelector('#df-ee0a9cda-9364-4578-b362-c4fcd8bec078 button.colab-df-convert');\n",
              "        buttonEl.style.display =\n",
              "          google.colab.kernel.accessAllowed ? 'block' : 'none';\n",
              "\n",
              "        async function convertToInteractive(key) {\n",
              "          const element = document.querySelector('#df-ee0a9cda-9364-4578-b362-c4fcd8bec078');\n",
              "          const dataTable =\n",
              "            await google.colab.kernel.invokeFunction('convertToInteractive',\n",
              "                                                     [key], {});\n",
              "          if (!dataTable) return;\n",
              "\n",
              "          const docLinkHtml = 'Like what you see? Visit the ' +\n",
              "            '<a target=\"_blank\" href=https://colab.research.google.com/notebooks/data_table.ipynb>data table notebook</a>'\n",
              "            + ' to learn more about interactive tables.';\n",
              "          element.innerHTML = '';\n",
              "          dataTable['output_type'] = 'display_data';\n",
              "          await google.colab.output.renderOutput(dataTable, element);\n",
              "          const docLink = document.createElement('div');\n",
              "          docLink.innerHTML = docLinkHtml;\n",
              "          element.appendChild(docLink);\n",
              "        }\n",
              "      </script>\n",
              "    </div>\n",
              "  </div>\n",
              "  "
            ]
          },
          "metadata": {},
          "execution_count": 64
        }
      ]
    },
    {
      "cell_type": "code",
      "source": [
        "weather_aus.shape"
      ],
      "metadata": {
        "colab": {
          "base_uri": "https://localhost:8080/"
        },
        "id": "DO-mazn-4kMW",
        "outputId": "f81c3339-ba13-436f-eaf4-92d48970627c"
      },
      "execution_count": null,
      "outputs": [
        {
          "output_type": "execute_result",
          "data": {
            "text/plain": [
              "(145460, 21)"
            ]
          },
          "metadata": {},
          "execution_count": 65
        }
      ]
    },
    {
      "cell_type": "code",
      "source": [
        "import matplotlib.pyplot as plt"
      ],
      "metadata": {
        "id": "Yj08hqBv4yT3"
      },
      "execution_count": null,
      "outputs": []
    },
    {
      "cell_type": "code",
      "source": [
        "import seaborn as sns\n",
        "%matplotlib inline"
      ],
      "metadata": {
        "id": "vU6ERICUFycD"
      },
      "execution_count": null,
      "outputs": []
    },
    {
      "cell_type": "code",
      "source": [
        "# To gain the information about the number of data, row, column and types of different data types\n",
        "weather_aus.info()"
      ],
      "metadata": {
        "colab": {
          "base_uri": "https://localhost:8080/"
        },
        "id": "pvVZIjAfF0ro",
        "outputId": "161ba767-4bff-44b3-f255-2fa3516a428c"
      },
      "execution_count": null,
      "outputs": [
        {
          "output_type": "stream",
          "name": "stdout",
          "text": [
            "<class 'pandas.core.frame.DataFrame'>\n",
            "RangeIndex: 145460 entries, 0 to 145459\n",
            "Data columns (total 21 columns):\n",
            " #   Column         Non-Null Count   Dtype  \n",
            "---  ------         --------------   -----  \n",
            " 0   MinTemp        145460 non-null  float64\n",
            " 1   MaxTemp        145460 non-null  float64\n",
            " 2   Rainfall       145460 non-null  float64\n",
            " 3   Evaporation    145460 non-null  float64\n",
            " 4   Sunshine       145460 non-null  float64\n",
            " 5   WindGustDir    145460 non-null  int64  \n",
            " 6   WindGustSpeed  145460 non-null  int64  \n",
            " 7   WindDir9am     145460 non-null  int64  \n",
            " 8   WindDir3pm     145460 non-null  int64  \n",
            " 9   WindSpeed9am   145460 non-null  int64  \n",
            " 10  WindSpeed3pm   145460 non-null  int64  \n",
            " 11  Humidity9am    145460 non-null  int64  \n",
            " 12  Humidity3pm    145460 non-null  int64  \n",
            " 13  Pressure9am    145460 non-null  float64\n",
            " 14  Pressure3pm    145460 non-null  float64\n",
            " 15  Cloud9am       145460 non-null  int64  \n",
            " 16  Cloud3pm       145460 non-null  int64  \n",
            " 17  Temp9am        145460 non-null  float64\n",
            " 18  Temp3pm        145460 non-null  float64\n",
            " 19  RainToday      145460 non-null  int64  \n",
            " 20  RainTomorrow   145460 non-null  object \n",
            "dtypes: float64(9), int64(11), object(1)\n",
            "memory usage: 23.3+ MB\n"
          ]
        }
      ]
    },
    {
      "cell_type": "code",
      "source": [
        "# To get the descriptive statisics of the data\n",
        "weather_aus.describe().T"
      ],
      "metadata": {
        "colab": {
          "base_uri": "https://localhost:8080/",
          "height": 676
        },
        "id": "Fq9C8GIbH1nG",
        "outputId": "cba702ef-9038-43ce-b0cf-191507c2873a"
      },
      "execution_count": null,
      "outputs": [
        {
          "output_type": "execute_result",
          "data": {
            "text/plain": [
              "                  count         mean        std    min      25%      50%  \\\n",
              "MinTemp        145460.0    12.193993   6.365750   -8.5     7.70    12.10   \n",
              "MaxTemp        145460.0    23.221337   7.088124   -4.8    18.00    22.70   \n",
              "Rainfall       145460.0     2.360898   8.382488    0.0     0.00     0.00   \n",
              "Evaporation    145460.0     5.464678   3.161544    0.0     4.00     5.46   \n",
              "Sunshine       145460.0     7.610612   2.729486    0.0     7.61     7.61   \n",
              "WindGustDir    145460.0    10.155197   4.792430    1.0     6.00    11.00   \n",
              "WindGustSpeed  145460.0    40.032744  13.118256    6.0    31.00    39.00   \n",
              "WindDir9am     145460.0     7.999526   4.515839    1.0     4.00     8.00   \n",
              "WindDir3pm     145460.0     9.269036   5.071950    1.0     4.00    10.00   \n",
              "WindSpeed9am   145460.0    14.042898   8.861060    0.0     7.00    13.00   \n",
              "WindSpeed3pm   145460.0    18.648708   8.717100    0.0    13.00    18.00   \n",
              "Humidity9am    145460.0    68.864760  18.855134    0.0    57.00    69.00   \n",
              "Humidity3pm    145460.0    51.553396  20.471345    0.0    37.00    52.00   \n",
              "Pressure9am    145460.0  1017.644768   6.728484  980.5  1013.50  1017.60   \n",
              "Pressure3pm    145460.0  1015.250115   6.663994  977.1  1011.10  1015.20   \n",
              "Cloud9am       145460.0     4.275540   2.276035    0.0     3.00     4.00   \n",
              "Cloud3pm       145460.0     4.709913   2.106768    0.0     4.00     5.00   \n",
              "Temp9am        145460.0    16.990745   6.449221   -7.2    12.30    16.80   \n",
              "Temp3pm        145460.0    21.683802   6.850057   -5.4    16.70    21.40   \n",
              "RainToday      145460.0     0.219167   0.413683    0.0     0.00     0.00   \n",
              "\n",
              "                   75%     max  \n",
              "MinTemp          16.80    33.9  \n",
              "MaxTemp          28.20    48.1  \n",
              "Rainfall          1.00   371.0  \n",
              "Evaporation       5.46   145.0  \n",
              "Sunshine          8.70    14.5  \n",
              "WindGustDir      15.00    18.0  \n",
              "WindGustSpeed    46.00   135.0  \n",
              "WindDir9am       12.00    16.0  \n",
              "WindDir3pm       14.00    17.0  \n",
              "WindSpeed9am     19.00   130.0  \n",
              "WindSpeed3pm     24.00    87.0  \n",
              "Humidity9am      83.00   100.0  \n",
              "Humidity3pm      65.00   100.0  \n",
              "Pressure9am    1021.80  1041.0  \n",
              "Pressure3pm    1019.40  1039.6  \n",
              "Cloud9am          6.00     9.0  \n",
              "Cloud3pm          6.00     9.0  \n",
              "Temp9am          21.50    40.2  \n",
              "Temp3pm          26.20    46.7  \n",
              "RainToday         0.00     1.0  "
            ],
            "text/html": [
              "\n",
              "  <div id=\"df-49b7708c-a1c4-4388-880e-493b208134ff\">\n",
              "    <div class=\"colab-df-container\">\n",
              "      <div>\n",
              "<style scoped>\n",
              "    .dataframe tbody tr th:only-of-type {\n",
              "        vertical-align: middle;\n",
              "    }\n",
              "\n",
              "    .dataframe tbody tr th {\n",
              "        vertical-align: top;\n",
              "    }\n",
              "\n",
              "    .dataframe thead th {\n",
              "        text-align: right;\n",
              "    }\n",
              "</style>\n",
              "<table border=\"1\" class=\"dataframe\">\n",
              "  <thead>\n",
              "    <tr style=\"text-align: right;\">\n",
              "      <th></th>\n",
              "      <th>count</th>\n",
              "      <th>mean</th>\n",
              "      <th>std</th>\n",
              "      <th>min</th>\n",
              "      <th>25%</th>\n",
              "      <th>50%</th>\n",
              "      <th>75%</th>\n",
              "      <th>max</th>\n",
              "    </tr>\n",
              "  </thead>\n",
              "  <tbody>\n",
              "    <tr>\n",
              "      <th>MinTemp</th>\n",
              "      <td>145460.0</td>\n",
              "      <td>12.193993</td>\n",
              "      <td>6.365750</td>\n",
              "      <td>-8.5</td>\n",
              "      <td>7.70</td>\n",
              "      <td>12.10</td>\n",
              "      <td>16.80</td>\n",
              "      <td>33.9</td>\n",
              "    </tr>\n",
              "    <tr>\n",
              "      <th>MaxTemp</th>\n",
              "      <td>145460.0</td>\n",
              "      <td>23.221337</td>\n",
              "      <td>7.088124</td>\n",
              "      <td>-4.8</td>\n",
              "      <td>18.00</td>\n",
              "      <td>22.70</td>\n",
              "      <td>28.20</td>\n",
              "      <td>48.1</td>\n",
              "    </tr>\n",
              "    <tr>\n",
              "      <th>Rainfall</th>\n",
              "      <td>145460.0</td>\n",
              "      <td>2.360898</td>\n",
              "      <td>8.382488</td>\n",
              "      <td>0.0</td>\n",
              "      <td>0.00</td>\n",
              "      <td>0.00</td>\n",
              "      <td>1.00</td>\n",
              "      <td>371.0</td>\n",
              "    </tr>\n",
              "    <tr>\n",
              "      <th>Evaporation</th>\n",
              "      <td>145460.0</td>\n",
              "      <td>5.464678</td>\n",
              "      <td>3.161544</td>\n",
              "      <td>0.0</td>\n",
              "      <td>4.00</td>\n",
              "      <td>5.46</td>\n",
              "      <td>5.46</td>\n",
              "      <td>145.0</td>\n",
              "    </tr>\n",
              "    <tr>\n",
              "      <th>Sunshine</th>\n",
              "      <td>145460.0</td>\n",
              "      <td>7.610612</td>\n",
              "      <td>2.729486</td>\n",
              "      <td>0.0</td>\n",
              "      <td>7.61</td>\n",
              "      <td>7.61</td>\n",
              "      <td>8.70</td>\n",
              "      <td>14.5</td>\n",
              "    </tr>\n",
              "    <tr>\n",
              "      <th>WindGustDir</th>\n",
              "      <td>145460.0</td>\n",
              "      <td>10.155197</td>\n",
              "      <td>4.792430</td>\n",
              "      <td>1.0</td>\n",
              "      <td>6.00</td>\n",
              "      <td>11.00</td>\n",
              "      <td>15.00</td>\n",
              "      <td>18.0</td>\n",
              "    </tr>\n",
              "    <tr>\n",
              "      <th>WindGustSpeed</th>\n",
              "      <td>145460.0</td>\n",
              "      <td>40.032744</td>\n",
              "      <td>13.118256</td>\n",
              "      <td>6.0</td>\n",
              "      <td>31.00</td>\n",
              "      <td>39.00</td>\n",
              "      <td>46.00</td>\n",
              "      <td>135.0</td>\n",
              "    </tr>\n",
              "    <tr>\n",
              "      <th>WindDir9am</th>\n",
              "      <td>145460.0</td>\n",
              "      <td>7.999526</td>\n",
              "      <td>4.515839</td>\n",
              "      <td>1.0</td>\n",
              "      <td>4.00</td>\n",
              "      <td>8.00</td>\n",
              "      <td>12.00</td>\n",
              "      <td>16.0</td>\n",
              "    </tr>\n",
              "    <tr>\n",
              "      <th>WindDir3pm</th>\n",
              "      <td>145460.0</td>\n",
              "      <td>9.269036</td>\n",
              "      <td>5.071950</td>\n",
              "      <td>1.0</td>\n",
              "      <td>4.00</td>\n",
              "      <td>10.00</td>\n",
              "      <td>14.00</td>\n",
              "      <td>17.0</td>\n",
              "    </tr>\n",
              "    <tr>\n",
              "      <th>WindSpeed9am</th>\n",
              "      <td>145460.0</td>\n",
              "      <td>14.042898</td>\n",
              "      <td>8.861060</td>\n",
              "      <td>0.0</td>\n",
              "      <td>7.00</td>\n",
              "      <td>13.00</td>\n",
              "      <td>19.00</td>\n",
              "      <td>130.0</td>\n",
              "    </tr>\n",
              "    <tr>\n",
              "      <th>WindSpeed3pm</th>\n",
              "      <td>145460.0</td>\n",
              "      <td>18.648708</td>\n",
              "      <td>8.717100</td>\n",
              "      <td>0.0</td>\n",
              "      <td>13.00</td>\n",
              "      <td>18.00</td>\n",
              "      <td>24.00</td>\n",
              "      <td>87.0</td>\n",
              "    </tr>\n",
              "    <tr>\n",
              "      <th>Humidity9am</th>\n",
              "      <td>145460.0</td>\n",
              "      <td>68.864760</td>\n",
              "      <td>18.855134</td>\n",
              "      <td>0.0</td>\n",
              "      <td>57.00</td>\n",
              "      <td>69.00</td>\n",
              "      <td>83.00</td>\n",
              "      <td>100.0</td>\n",
              "    </tr>\n",
              "    <tr>\n",
              "      <th>Humidity3pm</th>\n",
              "      <td>145460.0</td>\n",
              "      <td>51.553396</td>\n",
              "      <td>20.471345</td>\n",
              "      <td>0.0</td>\n",
              "      <td>37.00</td>\n",
              "      <td>52.00</td>\n",
              "      <td>65.00</td>\n",
              "      <td>100.0</td>\n",
              "    </tr>\n",
              "    <tr>\n",
              "      <th>Pressure9am</th>\n",
              "      <td>145460.0</td>\n",
              "      <td>1017.644768</td>\n",
              "      <td>6.728484</td>\n",
              "      <td>980.5</td>\n",
              "      <td>1013.50</td>\n",
              "      <td>1017.60</td>\n",
              "      <td>1021.80</td>\n",
              "      <td>1041.0</td>\n",
              "    </tr>\n",
              "    <tr>\n",
              "      <th>Pressure3pm</th>\n",
              "      <td>145460.0</td>\n",
              "      <td>1015.250115</td>\n",
              "      <td>6.663994</td>\n",
              "      <td>977.1</td>\n",
              "      <td>1011.10</td>\n",
              "      <td>1015.20</td>\n",
              "      <td>1019.40</td>\n",
              "      <td>1039.6</td>\n",
              "    </tr>\n",
              "    <tr>\n",
              "      <th>Cloud9am</th>\n",
              "      <td>145460.0</td>\n",
              "      <td>4.275540</td>\n",
              "      <td>2.276035</td>\n",
              "      <td>0.0</td>\n",
              "      <td>3.00</td>\n",
              "      <td>4.00</td>\n",
              "      <td>6.00</td>\n",
              "      <td>9.0</td>\n",
              "    </tr>\n",
              "    <tr>\n",
              "      <th>Cloud3pm</th>\n",
              "      <td>145460.0</td>\n",
              "      <td>4.709913</td>\n",
              "      <td>2.106768</td>\n",
              "      <td>0.0</td>\n",
              "      <td>4.00</td>\n",
              "      <td>5.00</td>\n",
              "      <td>6.00</td>\n",
              "      <td>9.0</td>\n",
              "    </tr>\n",
              "    <tr>\n",
              "      <th>Temp9am</th>\n",
              "      <td>145460.0</td>\n",
              "      <td>16.990745</td>\n",
              "      <td>6.449221</td>\n",
              "      <td>-7.2</td>\n",
              "      <td>12.30</td>\n",
              "      <td>16.80</td>\n",
              "      <td>21.50</td>\n",
              "      <td>40.2</td>\n",
              "    </tr>\n",
              "    <tr>\n",
              "      <th>Temp3pm</th>\n",
              "      <td>145460.0</td>\n",
              "      <td>21.683802</td>\n",
              "      <td>6.850057</td>\n",
              "      <td>-5.4</td>\n",
              "      <td>16.70</td>\n",
              "      <td>21.40</td>\n",
              "      <td>26.20</td>\n",
              "      <td>46.7</td>\n",
              "    </tr>\n",
              "    <tr>\n",
              "      <th>RainToday</th>\n",
              "      <td>145460.0</td>\n",
              "      <td>0.219167</td>\n",
              "      <td>0.413683</td>\n",
              "      <td>0.0</td>\n",
              "      <td>0.00</td>\n",
              "      <td>0.00</td>\n",
              "      <td>0.00</td>\n",
              "      <td>1.0</td>\n",
              "    </tr>\n",
              "  </tbody>\n",
              "</table>\n",
              "</div>\n",
              "      <button class=\"colab-df-convert\" onclick=\"convertToInteractive('df-49b7708c-a1c4-4388-880e-493b208134ff')\"\n",
              "              title=\"Convert this dataframe to an interactive table.\"\n",
              "              style=\"display:none;\">\n",
              "        \n",
              "  <svg xmlns=\"http://www.w3.org/2000/svg\" height=\"24px\"viewBox=\"0 0 24 24\"\n",
              "       width=\"24px\">\n",
              "    <path d=\"M0 0h24v24H0V0z\" fill=\"none\"/>\n",
              "    <path d=\"M18.56 5.44l.94 2.06.94-2.06 2.06-.94-2.06-.94-.94-2.06-.94 2.06-2.06.94zm-11 1L8.5 8.5l.94-2.06 2.06-.94-2.06-.94L8.5 2.5l-.94 2.06-2.06.94zm10 10l.94 2.06.94-2.06 2.06-.94-2.06-.94-.94-2.06-.94 2.06-2.06.94z\"/><path d=\"M17.41 7.96l-1.37-1.37c-.4-.4-.92-.59-1.43-.59-.52 0-1.04.2-1.43.59L10.3 9.45l-7.72 7.72c-.78.78-.78 2.05 0 2.83L4 21.41c.39.39.9.59 1.41.59.51 0 1.02-.2 1.41-.59l7.78-7.78 2.81-2.81c.8-.78.8-2.07 0-2.86zM5.41 20L4 18.59l7.72-7.72 1.47 1.35L5.41 20z\"/>\n",
              "  </svg>\n",
              "      </button>\n",
              "      \n",
              "  <style>\n",
              "    .colab-df-container {\n",
              "      display:flex;\n",
              "      flex-wrap:wrap;\n",
              "      gap: 12px;\n",
              "    }\n",
              "\n",
              "    .colab-df-convert {\n",
              "      background-color: #E8F0FE;\n",
              "      border: none;\n",
              "      border-radius: 50%;\n",
              "      cursor: pointer;\n",
              "      display: none;\n",
              "      fill: #1967D2;\n",
              "      height: 32px;\n",
              "      padding: 0 0 0 0;\n",
              "      width: 32px;\n",
              "    }\n",
              "\n",
              "    .colab-df-convert:hover {\n",
              "      background-color: #E2EBFA;\n",
              "      box-shadow: 0px 1px 2px rgba(60, 64, 67, 0.3), 0px 1px 3px 1px rgba(60, 64, 67, 0.15);\n",
              "      fill: #174EA6;\n",
              "    }\n",
              "\n",
              "    [theme=dark] .colab-df-convert {\n",
              "      background-color: #3B4455;\n",
              "      fill: #D2E3FC;\n",
              "    }\n",
              "\n",
              "    [theme=dark] .colab-df-convert:hover {\n",
              "      background-color: #434B5C;\n",
              "      box-shadow: 0px 1px 3px 1px rgba(0, 0, 0, 0.15);\n",
              "      filter: drop-shadow(0px 1px 2px rgba(0, 0, 0, 0.3));\n",
              "      fill: #FFFFFF;\n",
              "    }\n",
              "  </style>\n",
              "\n",
              "      <script>\n",
              "        const buttonEl =\n",
              "          document.querySelector('#df-49b7708c-a1c4-4388-880e-493b208134ff button.colab-df-convert');\n",
              "        buttonEl.style.display =\n",
              "          google.colab.kernel.accessAllowed ? 'block' : 'none';\n",
              "\n",
              "        async function convertToInteractive(key) {\n",
              "          const element = document.querySelector('#df-49b7708c-a1c4-4388-880e-493b208134ff');\n",
              "          const dataTable =\n",
              "            await google.colab.kernel.invokeFunction('convertToInteractive',\n",
              "                                                     [key], {});\n",
              "          if (!dataTable) return;\n",
              "\n",
              "          const docLinkHtml = 'Like what you see? Visit the ' +\n",
              "            '<a target=\"_blank\" href=https://colab.research.google.com/notebooks/data_table.ipynb>data table notebook</a>'\n",
              "            + ' to learn more about interactive tables.';\n",
              "          element.innerHTML = '';\n",
              "          dataTable['output_type'] = 'display_data';\n",
              "          await google.colab.output.renderOutput(dataTable, element);\n",
              "          const docLink = document.createElement('div');\n",
              "          docLink.innerHTML = docLinkHtml;\n",
              "          element.appendChild(docLink);\n",
              "        }\n",
              "      </script>\n",
              "    </div>\n",
              "  </div>\n",
              "  "
            ]
          },
          "metadata": {},
          "execution_count": 69
        }
      ]
    },
    {
      "cell_type": "code",
      "source": [
        "#To Find Out the Percentage of The data missing in the Data Sheet\n",
        "weather_aus.isnull().sum()/len(weather_aus)*100"
      ],
      "metadata": {
        "colab": {
          "base_uri": "https://localhost:8080/"
        },
        "id": "pEvgwOV6IhoS",
        "outputId": "614952d7-e7ba-46e1-c0eb-eac1993cf0f4"
      },
      "execution_count": null,
      "outputs": [
        {
          "output_type": "execute_result",
          "data": {
            "text/plain": [
              "MinTemp          0.0\n",
              "MaxTemp          0.0\n",
              "Rainfall         0.0\n",
              "Evaporation      0.0\n",
              "Sunshine         0.0\n",
              "WindGustDir      0.0\n",
              "WindGustSpeed    0.0\n",
              "WindDir9am       0.0\n",
              "WindDir3pm       0.0\n",
              "WindSpeed9am     0.0\n",
              "WindSpeed3pm     0.0\n",
              "Humidity9am      0.0\n",
              "Humidity3pm      0.0\n",
              "Pressure9am      0.0\n",
              "Pressure3pm      0.0\n",
              "Cloud9am         0.0\n",
              "Cloud3pm         0.0\n",
              "Temp9am          0.0\n",
              "Temp3pm          0.0\n",
              "RainToday        0.0\n",
              "RainTomorrow     0.0\n",
              "dtype: float64"
            ]
          },
          "metadata": {},
          "execution_count": 70
        }
      ]
    },
    {
      "cell_type": "code",
      "source": [
        "r = weather_aus[\"RainTomorrow\"].value_counts()"
      ],
      "metadata": {
        "id": "-bgIF017LMzK"
      },
      "execution_count": null,
      "outputs": []
    },
    {
      "cell_type": "code",
      "source": [
        "plt.pie(r, labels = r.index)"
      ],
      "metadata": {
        "colab": {
          "base_uri": "https://localhost:8080/",
          "height": 321
        },
        "id": "io9JhmyQV-st",
        "outputId": "543857e9-02ec-4c50-b70c-9aed8f32f046"
      },
      "execution_count": null,
      "outputs": [
        {
          "output_type": "execute_result",
          "data": {
            "text/plain": [
              "([<matplotlib.patches.Wedge at 0x7f3e52873100>,\n",
              "  <matplotlib.patches.Wedge at 0x7f3e52873040>],\n",
              " [Text(-0.8494423969509877, 0.6988902734064634, 'No'),\n",
              "  Text(0.8494424623858133, -0.6988901938759238, 'Yes')])"
            ]
          },
          "metadata": {},
          "execution_count": 72
        },
        {
          "output_type": "display_data",
          "data": {
            "text/plain": [
              "<Figure size 432x288 with 1 Axes>"
            ],
            "image/png": "[encoded data removed]"
          },
          "metadata": {}
        }
      ]
    },
    {
      "cell_type": "code",
      "source": [
        "sns.boxenplot(y=\"Rainfall\",x=\"RainTomorrow\",data=weather_aus)"
      ],
      "metadata": {
        "colab": {
          "base_uri": "https://localhost:8080/",
          "height": 297
        },
        "id": "wX8JFRnwAax-",
        "outputId": "e2fec3a4-17bb-4cae-ee96-55d75f441395"
      },
      "execution_count": null,
      "outputs": [
        {
          "output_type": "execute_result",
          "data": {
            "text/plain": [
              "<matplotlib.axes._subplots.AxesSubplot at 0x7f3e4f4b1d90>"
            ]
          },
          "metadata": {},
          "execution_count": 73
        },
        {
          "output_type": "display_data",
          "data": {
            "text/plain": [
              "<Figure size 432x288 with 1 Axes>"
            ],
            "image/png": "[encoded data removed]"
          },
          "metadata": {
            "needs_background": "light"
          }
        }
      ]
    },
    {
      "cell_type": "code",
      "source": [
        "sns.boxenplot(y=\"Evaporation\",x=\"RainTomorrow\",data=weather_aus);"
      ],
      "metadata": {
        "colab": {
          "base_uri": "https://localhost:8080/",
          "height": 279
        },
        "id": "EluJLSd1Ad5J",
        "outputId": "036b36ce-952d-4cb9-bf14-27eb14bccef7"
      },
      "execution_count": null,
      "outputs": [
        {
          "output_type": "display_data",
          "data": {
            "text/plain": [
              "<Figure size 432x288 with 1 Axes>"
            ],
            "image/png": "[encoded data removed]"
          },
          "metadata": {
            "needs_background": "light"
          }
        }
      ]
    },
    {
      "cell_type": "code",
      "source": [
        "sns.boxenplot(y=\"Sunshine\",x=\"RainTomorrow\",data=weather_aus)"
      ],
      "metadata": {
        "colab": {
          "base_uri": "https://localhost:8080/",
          "height": 297
        },
        "id": "xL44fiGyAmnS",
        "outputId": "d4998ccb-ef00-4ae1-fd0d-ba13120c9241"
      },
      "execution_count": null,
      "outputs": [
        {
          "output_type": "execute_result",
          "data": {
            "text/plain": [
              "<matplotlib.axes._subplots.AxesSubplot at 0x7f3e4b1c15e0>"
            ]
          },
          "metadata": {},
          "execution_count": 75
        },
        {
          "output_type": "display_data",
          "data": {
            "text/plain": [
              "<Figure size 432x288 with 1 Axes>"
            ],
            "image/png": "[encoded data removed]"
          },
          "metadata": {
            "needs_background": "light"
          }
        }
      ]
    },
    {
      "cell_type": "code",
      "source": [
        "sns.boxenplot(y=\"WindGustSpeed\",x=\"RainTomorrow\",data=weather_aus)"
      ],
      "metadata": {
        "colab": {
          "base_uri": "https://localhost:8080/",
          "height": 299
        },
        "id": "JzsGtbJGAqmm",
        "outputId": "fe19db3d-4fb7-4f2c-9a78-3d5041e066a3"
      },
      "execution_count": null,
      "outputs": [
        {
          "output_type": "execute_result",
          "data": {
            "text/plain": [
              "<matplotlib.axes._subplots.AxesSubplot at 0x7f3e41786520>"
            ]
          },
          "metadata": {},
          "execution_count": 76
        },
        {
          "output_type": "display_data",
          "data": {
            "text/plain": [
              "<Figure size 432x288 with 1 Axes>"
            ],
            "image/png": "[encoded data removed]"
          },
          "metadata": {
            "needs_background": "light"
          }
        }
      ]
    },
    {
      "cell_type": "code",
      "source": [
        "from sklearn.model_selection import train_test_split"
      ],
      "metadata": {
        "id": "lVqrN-x2AtVK"
      },
      "execution_count": null,
      "outputs": []
    },
    {
      "cell_type": "code",
      "source": [
        "weather_aus[\"RainTomorrow\"]"
      ],
      "metadata": {
        "id": "myCxAi0qCDYa",
        "colab": {
          "base_uri": "https://localhost:8080/"
        },
        "outputId": "ab205640-d05b-407a-e770-80b740158966"
      },
      "execution_count": null,
      "outputs": [
        {
          "output_type": "execute_result",
          "data": {
            "text/plain": [
              "0         No\n",
              "1         No\n",
              "2         No\n",
              "3         No\n",
              "4         No\n",
              "          ..\n",
              "145455    No\n",
              "145456    No\n",
              "145457    No\n",
              "145458    No\n",
              "145459    No\n",
              "Name: RainTomorrow, Length: 145460, dtype: object"
            ]
          },
          "metadata": {},
          "execution_count": 78
        }
      ]
    },
    {
      "cell_type": "code",
      "source": [
        "weather_aus[\"RainTomorrow\"].replace({\"No\":0,\"Yes\":1},inplace=True)"
      ],
      "metadata": {
        "id": "lAZcQIeWSX7D"
      },
      "execution_count": null,
      "outputs": []
    },
    {
      "cell_type": "code",
      "source": [
        "x=weather_aus.drop(\"RainTomorrow\", axis = 1)"
      ],
      "metadata": {
        "id": "Y4p04QHMCIFu"
      },
      "execution_count": null,
      "outputs": []
    },
    {
      "cell_type": "code",
      "source": [
        "y=weather_aus[\"RainTomorrow\"]"
      ],
      "metadata": {
        "id": "wR0zYWTJCNAY"
      },
      "execution_count": null,
      "outputs": []
    },
    {
      "cell_type": "code",
      "source": [
        "x_train, x_test, y_train, y_test = train_test_split(x, y, test_size=0.20)"
      ],
      "metadata": {
        "id": "gsPFMQ9oCS9r"
      },
      "execution_count": null,
      "outputs": []
    },
    {
      "cell_type": "code",
      "source": [
        "x_train.shape"
      ],
      "metadata": {
        "colab": {
          "base_uri": "https://localhost:8080/"
        },
        "id": "-Y_vodkBCggJ",
        "outputId": "8032a8bb-d139-4515-97bb-817cabb06346"
      },
      "execution_count": null,
      "outputs": [
        {
          "output_type": "execute_result",
          "data": {
            "text/plain": [
              "(116368, 20)"
            ]
          },
          "metadata": {},
          "execution_count": 83
        }
      ]
    },
    {
      "cell_type": "code",
      "source": [
        "y_train.shape"
      ],
      "metadata": {
        "colab": {
          "base_uri": "https://localhost:8080/"
        },
        "id": "sM4vokNoC55S",
        "outputId": "85f7ac98-9605-4c66-9e79-9e785bc9f264"
      },
      "execution_count": null,
      "outputs": [
        {
          "output_type": "execute_result",
          "data": {
            "text/plain": [
              "(116368,)"
            ]
          },
          "metadata": {},
          "execution_count": 84
        }
      ]
    },
    {
      "cell_type": "code",
      "source": [
        "#Sequentional Format\n",
        "from keras.models import Sequential"
      ],
      "metadata": {
        "id": "i7V6dAHKEPGv"
      },
      "execution_count": null,
      "outputs": []
    },
    {
      "cell_type": "code",
      "source": [
        "#Dense connection\n",
        "from keras.layers import Dense, Activation\n",
        "from tensorflow.keras.optimizers import Adam\n",
        "from sklearn.metrics import f1_score, confusion_matrix, classification_report\n",
        "from sklearn import metrics"
      ],
      "metadata": {
        "id": "c6L5DcL4IbR_"
      },
      "execution_count": null,
      "outputs": []
    },
    {
      "cell_type": "code",
      "source": [
        "x_train.shape[1]"
      ],
      "metadata": {
        "colab": {
          "base_uri": "https://localhost:8080/"
        },
        "id": "3H-6Js33A_l5",
        "outputId": "48fedaec-d181-4a8b-8dc3-06b5b489f21f"
      },
      "execution_count": null,
      "outputs": [
        {
          "output_type": "execute_result",
          "data": {
            "text/plain": [
              "20"
            ]
          },
          "metadata": {},
          "execution_count": 87
        }
      ]
    },
    {
      "cell_type": "code",
      "source": [
        "weather_aus_NN = Sequential()"
      ],
      "metadata": {
        "id": "WX9hut1sIete"
      },
      "execution_count": null,
      "outputs": []
    },
    {
      "cell_type": "code",
      "source": [
        "weather_aus_NN.add( Dense(128, activation = \"sigmoid\", input_dim = 20) )"
      ],
      "metadata": {
        "id": "Q6lO72i6Iqe0"
      },
      "execution_count": null,
      "outputs": []
    },
    {
      "cell_type": "code",
      "source": [
        "weather_aus_NN.add( Dense(64, activation = \"sigmoid\") )"
      ],
      "metadata": {
        "id": "_n4vqrTENWgb"
      },
      "execution_count": null,
      "outputs": []
    },
    {
      "cell_type": "code",
      "source": [
        "weather_aus_NN.add( Dense(32, activation = \"sigmoid\") )"
      ],
      "metadata": {
        "id": "H2WBuwXvIq7t"
      },
      "execution_count": null,
      "outputs": []
    },
    {
      "cell_type": "code",
      "source": [
        "weather_aus_NN.add( Dense(16, activation = \"sigmoid\") )"
      ],
      "metadata": {
        "id": "nsX60VgsNw4I"
      },
      "execution_count": null,
      "outputs": []
    },
    {
      "cell_type": "code",
      "source": [
        "weather_aus_NN.add( Dense(12, activation = \"sigmoid\") )"
      ],
      "metadata": {
        "id": "f3NVVYGglkw5"
      },
      "execution_count": null,
      "outputs": []
    },
    {
      "cell_type": "code",
      "source": [
        "weather_aus_NN.add( Dense (1))"
      ],
      "metadata": {
        "id": "eLttvjLMJhzO"
      },
      "execution_count": null,
      "outputs": []
    },
    {
      "cell_type": "code",
      "source": [
        "weather_aus_NN.compile(loss=\"binary_crossentropy\", optimizer = \"RMSprop\" , metrics = [\"accuracy\"])"
      ],
      "metadata": {
        "id": "d7R71Yf7J-w3"
      },
      "execution_count": null,
      "outputs": []
    },
    {
      "cell_type": "code",
      "source": [
        "weather_aus_NN.fit(x_train, y_train, epochs = 20)"
      ],
      "metadata": {
        "id": "Sr8xdH_aJqu2",
        "colab": {
          "base_uri": "https://localhost:8080/"
        },
        "outputId": "d0a40096-22da-422a-9910-f84e4bde424a"
      },
      "execution_count": null,
      "outputs": [
        {
          "output_type": "stream",
          "name": "stdout",
          "text": [
            "Epoch 1/20\n",
            "3637/3637 [==============================] - 9s 2ms/step - loss: 3.3918 - accuracy: 0.7801\n",
            "Epoch 2/20\n",
            "3637/3637 [==============================] - 8s 2ms/step - loss: 3.3918 - accuracy: 0.7801\n",
            "Epoch 3/20\n",
            "3637/3637 [==============================] - 8s 2ms/step - loss: 3.3918 - accuracy: 0.7801\n",
            "Epoch 4/20\n",
            "3637/3637 [==============================] - 7s 2ms/step - loss: 3.3918 - accuracy: 0.7801\n",
            "Epoch 5/20\n",
            "3637/3637 [==============================] - 7s 2ms/step - loss: 3.3918 - accuracy: 0.7801\n",
            "Epoch 6/20\n",
            "3637/3637 [==============================] - 8s 2ms/step - loss: 3.3918 - accuracy: 0.7801\n",
            "Epoch 7/20\n",
            "3637/3637 [==============================] - 8s 2ms/step - loss: 3.3918 - accuracy: 0.7801\n",
            "Epoch 8/20\n",
            "3637/3637 [==============================] - 8s 2ms/step - loss: 3.3918 - accuracy: 0.7801\n",
            "Epoch 9/20\n",
            "3637/3637 [==============================] - 8s 2ms/step - loss: 3.3918 - accuracy: 0.7801\n",
            "Epoch 10/20\n",
            "3637/3637 [==============================] - 7s 2ms/step - loss: 3.3918 - accuracy: 0.7801\n",
            "Epoch 11/20\n",
            "3637/3637 [==============================] - 8s 2ms/step - loss: 3.3918 - accuracy: 0.7801\n",
            "Epoch 12/20\n",
            "3637/3637 [==============================] - 7s 2ms/step - loss: 3.3918 - accuracy: 0.7801\n",
            "Epoch 13/20\n",
            "3637/3637 [==============================] - 9s 2ms/step - loss: 3.3918 - accuracy: 0.7801\n",
            "Epoch 14/20\n",
            "3637/3637 [==============================] - 8s 2ms/step - loss: 3.3918 - accuracy: 0.7801\n",
            "Epoch 15/20\n",
            "3637/3637 [==============================] - 8s 2ms/step - loss: 3.3918 - accuracy: 0.7801\n",
            "Epoch 16/20\n",
            "3637/3637 [==============================] - 8s 2ms/step - loss: 3.3918 - accuracy: 0.7801\n",
            "Epoch 17/20\n",
            "3637/3637 [==============================] - 8s 2ms/step - loss: 3.3918 - accuracy: 0.7801\n",
            "Epoch 18/20\n",
            "3637/3637 [==============================] - 8s 2ms/step - loss: 3.3918 - accuracy: 0.7801\n",
            "Epoch 19/20\n",
            "3637/3637 [==============================] - 8s 2ms/step - loss: 3.3918 - accuracy: 0.7801\n",
            "Epoch 20/20\n",
            "3637/3637 [==============================] - 8s 2ms/step - loss: 3.3918 - accuracy: 0.7801\n"
          ]
        },
        {
          "output_type": "execute_result",
          "data": {
            "text/plain": [
              "<keras.callbacks.History at 0x7f3e4670a5b0>"
            ]
          },
          "metadata": {},
          "execution_count": 96
        }
      ]
    },
    {
      "cell_type": "code",
      "source": [
        "Weather_Aus_pred = weather_aus_NN.predict(x_test)\n",
        "Weather_Aus_pred = Weather_Aus_pred.flatten()\n",
        "print(Weather_Aus_pred.round(2))"
      ],
      "metadata": {
        "colab": {
          "base_uri": "https://localhost:8080/"
        },
        "id": "5vRlvod-fRxF",
        "outputId": "e85ffdd3-dc3a-4c91-cb8c-dc48dafa05d9"
      },
      "execution_count": null,
      "outputs": [
        {
          "output_type": "stream",
          "name": "stdout",
          "text": [
            "910/910 [==============================] - 1s 1ms/step\n",
            "[-0.41 -0.41 -0.41 ... -0.41 -0.41 -0.41]\n"
          ]
        }
      ]
    },
    {
      "cell_type": "code",
      "source": [
        "y_pred = np.where(Weather_Aus_pred > 0.50, 1, 0)\n",
        "print(y_pred)"
      ],
      "metadata": {
        "colab": {
          "base_uri": "https://localhost:8080/"
        },
        "id": "Xu9ozDsDfmod",
        "outputId": "05495423-2c4d-427a-854e-af1947237190"
      },
      "execution_count": null,
      "outputs": [
        {
          "output_type": "stream",
          "name": "stdout",
          "text": [
            "[0 0 0 ... 0 0 0]\n"
          ]
        }
      ]
    },
    {
      "cell_type": "code",
      "source": [
        "print(confusion_matrix(y_test, y_pred))"
      ],
      "metadata": {
        "colab": {
          "base_uri": "https://localhost:8080/"
        },
        "id": "obb0VHyyTKAz",
        "outputId": "ac22a4fc-c21f-4f03-de15-d6347e44a717"
      },
      "execution_count": null,
      "outputs": [
        {
          "output_type": "stream",
          "name": "stdout",
          "text": [
            "[[22803     0]\n",
            " [ 6289     0]]\n"
          ]
        }
      ]
    },
    {
      "cell_type": "code",
      "source": [],
      "metadata": {
        "id": "47ewpwtTqs-s"
      },
      "execution_count": null,
      "outputs": []
    },
    {
      "cell_type": "code",
      "source": [
        "print(classification_report(y_test, y_pred))"
      ],
      "metadata": {
        "colab": {
          "base_uri": "https://localhost:8080/"
        },
        "id": "yFILf4dTf1nv",
        "outputId": "18e852a3-7faf-47a2-b02e-62522c2dbe91"
      },
      "execution_count": null,
      "outputs": [
        {
          "output_type": "stream",
          "name": "stdout",
          "text": [
            "              precision    recall  f1-score   support\n",
            "\n",
            "           0       0.78      1.00      0.88     22803\n",
            "           1       0.00      0.00      0.00      6289\n",
            "\n",
            "    accuracy                           0.78     29092\n",
            "   macro avg       0.39      0.50      0.44     29092\n",
            "weighted avg       0.61      0.78      0.69     29092\n",
            "\n"
          ]
        },
        {
          "output_type": "stream",
          "name": "stderr",
          "text": [
            "/usr/local/lib/python3.8/dist-packages/sklearn/metrics/_classification.py:1318: UndefinedMetricWarning: Precision and F-score are ill-defined and being set to 0.0 in labels with no predicted samples. Use `zero_division` parameter to control this behavior.\n",
            "  _warn_prf(average, modifier, msg_start, len(result))\n",
            "/usr/local/lib/python3.8/dist-packages/sklearn/metrics/_classification.py:1318: UndefinedMetricWarning: Precision and F-score are ill-defined and being set to 0.0 in labels with no predicted samples. Use `zero_division` parameter to control this behavior.\n",
            "  _warn_prf(average, modifier, msg_start, len(result))\n",
            "/usr/local/lib/python3.8/dist-packages/sklearn/metrics/_classification.py:1318: UndefinedMetricWarning: Precision and F-score are ill-defined and being set to 0.0 in labels with no predicted samples. Use `zero_division` parameter to control this behavior.\n",
            "  _warn_prf(average, modifier, msg_start, len(result))\n"
          ]
        }
      ]
    }
  ]
}